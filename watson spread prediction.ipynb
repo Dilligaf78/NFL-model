{
 "cells": [
  {
   "cell_type": "markdown",
   "metadata": {},
   "source": [
    "![image](https://github.com/IBM/watson-machine-learning-samples/raw/master/cloud/notebooks/headers/AutoAI-Banner_Pipeline-Notebook.png)\n",
    "# Pipeline 8 Notebook - AutoAI Notebook v1.16.9\n",
    "\n",
    "Consider these tips for working with an auto-generated notebook:\n",
    "- Notebook code generated using AutoAI will execute successfully. If you modify the notebook, we cannot guarantee it will run successfully.\n",
    "- This pipeline is optimized for the original data set. The pipeline might fail or produce sub-optimal results if used with different data.  If you want to use a different data set, consider retraining the AutoAI experiment to generate a new pipeline. For more information, see <a href=\"https://dataplatform.cloud.ibm.com/docs/content/wsj/analyze-data/autoai-notebook.html\">Cloud Platform</a>. \n",
    "- Before modifying the pipeline or trying to re-fit the pipeline, consider that the code converts dataframes to numpy arrays before fitting the pipeline (a current restriction of the preprocessor pipeline).\n"
   ]
  },
  {
   "cell_type": "markdown",
   "metadata": {},
   "source": [
    "<a id=\"content\"></a>\n",
    "## Notebook content\n",
    "\n",
    "This notebook contains a Scikit-learn representation of AutoAI pipeline. This notebook introduces commands for retrieving data, training the model, and testing the model. \n",
    "\n",
    "Some familiarity with Python is helpful. This notebook uses python 3.9 and scikit-learn 1.0.2."
   ]
  },
  {
   "cell_type": "markdown",
   "metadata": {
    "pycharm": {
     "name": "#%% md\n"
    }
   },
   "source": [
    "## Notebook goals\n",
    "\n",
    "-  Scikit-learn pipeline definition\n",
    "-  Pipeline training \n",
    "-  Pipeline evaluation\n",
    "\n",
    "## Contents\n",
    "\n",
    "This notebook contains the following parts:\n",
    "\n",
    "**[Setup](#setup)**<br>\n",
    "&nbsp;&nbsp;[Package installation](#install)<br>\n",
    "&nbsp;&nbsp;[AutoAI experiment metadata](#variables_definition)<br>\n",
    "&nbsp;&nbsp;[Watson Machine Learning connection](#connection)<br>\n",
    "**[Pipeline inspection](#inspection)** <br>\n",
    "&nbsp;&nbsp;[Read training data](#read)<br>\n",
    "&nbsp;&nbsp;[Train and test data split](#split)<br>\n",
    "&nbsp;&nbsp;[Create pipeline](#preview_model_to_python_code)<br>\n",
    "&nbsp;&nbsp;[Train pipeline model](#train)<br>\n",
    "&nbsp;&nbsp;[Test pipeline model](#test_model)<br>\n",
    "**[Summary and next steps](#summary_and_next_steps)**<br>\n",
    "**[Copyrights](#copyrights)**"
   ]
  },
  {
   "cell_type": "markdown",
   "metadata": {},
   "source": [
    "<a id=\"setup\"></a>\n",
    "# Setup"
   ]
  },
  {
   "cell_type": "markdown",
   "metadata": {},
   "source": [
    "<a id=\"install\"></a>\n",
    "## Package installation\n",
    "Before you use the sample code in this notebook, install the following packages:\n",
    " - ibm_watson_machine_learning,\n",
    " - autoai-libs,\n",
    " - scikit-learn,\n",
    " - snapml.\n"
   ]
  },
  {
   "cell_type": "code",
   "execution_count": null,
   "metadata": {
    "execution": {
     "iopub.execute_input": "2020-10-12T14:00:45.009458Z",
     "iopub.status.busy": "2020-10-12T14:00:45.007968Z",
     "iopub.status.idle": "2020-10-12T14:00:46.037702Z",
     "shell.execute_reply": "2020-10-12T14:00:46.038270Z"
    },
    "pycharm": {
     "name": "#%%\n"
    },
    "scrolled": true
   },
   "outputs": [],
   "source": [
    "!pip install -U ibm-watson-machine-learning | tail -n 1\n",
    "!pip install -U autoai-libs==1.13.9 | tail -n 1\n",
    "!pip install -U scikit-learn==1.0.2 | tail -n 1\n",
    "!pip install -U 'snapml>=1.8.8,<1.9.0' | tail -n 1"
   ]
  },
  {
   "cell_type": "markdown",
   "metadata": {},
   "source": [
    "<a id=\"variables_definition\"></a>\n",
    "## AutoAI experiment metadata\n",
    "The following cell contains the training data connection details.  \n",
    "**Note**: The connection might contain authorization credentials, so be careful when sharing the notebook."
   ]
  },
  {
   "cell_type": "code",
   "execution_count": null,
   "metadata": {
    "execution": {
     "iopub.execute_input": "2020-10-12T14:00:49.797633Z",
     "iopub.status.busy": "2020-10-12T14:00:49.796778Z",
     "iopub.status.idle": "2020-10-12T14:00:57.182715Z",
     "shell.execute_reply": "2020-10-12T14:00:57.183132Z"
    },
    "pycharm": {
     "is_executing": true
    }
   },
   "outputs": [],
   "source": [
    "from ibm_watson_machine_learning.helpers import DataConnection\n",
    "from ibm_watson_machine_learning.helpers import ContainerLocation\n",
    "\n",
    "training_data_references = [\n",
    "    DataConnection(\n",
    "        data_asset_id='6ace2858-394d-45b3-8125-26b210d1a3e8'\n",
    "    ),\n",
    "]\n",
    "training_result_reference = DataConnection(\n",
    "    location=ContainerLocation(\n",
    "        path='auto_ml/bba734b8-4554-47d8-81dd-c346590e3cdd/wml_data/7e1446fc-5f28-48d1-a203-e8ce9ca5c377/data/automl',\n",
    "        model_location='auto_ml/bba734b8-4554-47d8-81dd-c346590e3cdd/wml_data/7e1446fc-5f28-48d1-a203-e8ce9ca5c377/data/automl/model.zip',\n",
    "        training_status='auto_ml/bba734b8-4554-47d8-81dd-c346590e3cdd/wml_data/7e1446fc-5f28-48d1-a203-e8ce9ca5c377/training-status.json'\n",
    "    )\n",
    ")"
   ]
  },
  {
   "cell_type": "markdown",
   "metadata": {},
   "source": [
    "The following cell contains input parameters provided to run the AutoAI experiment in Watson Studio."
   ]
  },
  {
   "cell_type": "code",
   "execution_count": null,
   "metadata": {
    "execution": {
     "iopub.execute_input": "2020-10-12T14:00:57.187305Z",
     "iopub.status.busy": "2020-10-12T14:00:57.186602Z",
     "iopub.status.idle": "2020-10-12T14:00:57.188392Z",
     "shell.execute_reply": "2020-10-12T14:00:57.188878Z"
    },
    "pycharm": {
     "name": "#%%\n"
    }
   },
   "outputs": [],
   "source": [
    "experiment_metadata = dict(\n",
    "    prediction_type='regression',\n",
    "    prediction_column='Spread',\n",
    "    holdout_size=0.1,\n",
    "    scoring='neg_root_mean_squared_error',\n",
    "    csv_separator=',',\n",
    "    random_state=33,\n",
    "    max_number_of_estimators=2,\n",
    "    training_data_references=training_data_references,\n",
    "    training_result_reference=training_result_reference,\n",
    "    deployment_url='https://us-south.ml.cloud.ibm.com',\n",
    "    project_id='011c9d81-93cd-4342-9b0c-a2e4af1e5ec2',\n",
    "    drop_duplicates=True\n",
    ")"
   ]
  },
  {
   "cell_type": "markdown",
   "metadata": {},
   "source": [
    "## Set `n_jobs` parameter to the number of available CPUs"
   ]
  },
  {
   "cell_type": "code",
   "execution_count": null,
   "metadata": {},
   "outputs": [],
   "source": [
    "import os, ast\n",
    "CPU_NUMBER = 2\n",
    "if 'RUNTIME_HARDWARE_SPEC' in os.environ:\n",
    "    CPU_NUMBER = int(ast.literal_eval(os.environ['RUNTIME_HARDWARE_SPEC'])['num_cpu'])"
   ]
  },
  {
   "cell_type": "markdown",
   "metadata": {},
   "source": [
    "<a id=\"connection\"></a>\n",
    "## Watson Machine Learning connection\n",
    "\n",
    "This cell defines the credentials required to work with the Watson Machine Learning service.\n",
    "\n",
    "**Action:** Please provide IBM Cloud apikey following [docs](https://cloud.ibm.com/docs/account?topic=account-userapikey)."
   ]
  },
  {
   "cell_type": "code",
   "execution_count": null,
   "metadata": {},
   "outputs": [],
   "source": [
    "api_key = 'PUT_YOUR_APIKEY_HERE'"
   ]
  },
  {
   "cell_type": "code",
   "execution_count": null,
   "metadata": {},
   "outputs": [],
   "source": [
    "wml_credentials = {\n",
    "    \"apikey\": api_key,\n",
    "    \"url\": experiment_metadata['deployment_url']\n",
    "}"
   ]
  },
  {
   "cell_type": "code",
   "execution_count": null,
   "metadata": {},
   "outputs": [],
   "source": [
    "from ibm_watson_machine_learning import APIClient\n",
    "\n",
    "wml_client = APIClient(wml_credentials)\n",
    "\n",
    "if 'space_id' in experiment_metadata:\n",
    "    wml_client.set.default_space(experiment_metadata['space_id'])\n",
    "else:\n",
    "    wml_client.set.default_project(experiment_metadata['project_id'])\n",
    "    \n",
    "training_data_references[0].set_client(wml_client)\n"
   ]
  },
  {
   "cell_type": "markdown",
   "metadata": {},
   "source": [
    "<a id=\"inspection\"></a>\n",
    "# Pipeline inspection"
   ]
  },
  {
   "cell_type": "markdown",
   "metadata": {
    "pycharm": {
     "name": "#%% md\n"
    }
   },
   "source": [
    "<a id=\"read\"></a>\n",
    "## Read training data\n",
    "\n",
    "Retrieve training dataset from AutoAI experiment as pandas DataFrame.\n",
    "\n",
    "**Note**: If reading data results in an error, provide data as Pandas DataFrame object, for example, reading .CSV file with `pandas.read_csv()`. It may be necessary to use methods for initial data pre-processing like: e.g. `DataFrame.dropna()`, `DataFrame.drop_duplicates()`, `DataFrame.sample()`."
   ]
  },
  {
   "cell_type": "code",
   "execution_count": null,
   "metadata": {
    "execution": {
     "iopub.execute_input": "2020-10-12T14:01:16.076169Z",
     "iopub.status.busy": "2020-10-12T14:01:16.075589Z",
     "iopub.status.idle": "2020-10-12T14:01:19.190233Z",
     "shell.execute_reply": "2020-10-12T14:01:19.190807Z"
    },
    "pycharm": {
     "is_executing": true,
     "name": "#%%\n"
    }
   },
   "outputs": [],
   "source": [
    "train_X, test_X, train_y, test_y = training_data_references[0].read(experiment_metadata=experiment_metadata, with_holdout_split=True, use_flight=False)"
   ]
  },
  {
   "cell_type": "markdown",
   "metadata": {
    "pycharm": {
     "name": "#%% md\n"
    }
   },
   "source": [
    "<a id=\"preview_model_to_python_code\"></a>\n",
    "## Create pipeline\n",
    "In the next cell, you can find the Scikit-learn definition of the selected AutoAI pipeline."
   ]
  },
  {
   "cell_type": "markdown",
   "metadata": {
    "pycharm": {
     "name": "#%% md\n"
    }
   },
   "source": [
    "#### Import statements."
   ]
  },
  {
   "cell_type": "code",
   "execution_count": null,
   "metadata": {
    "pycharm": {
     "is_executing": true,
     "name": "#%%\n"
    }
   },
   "outputs": [],
   "source": [
    "from autoai_libs.transformers.date_time import DateTransformer\n",
    "from autoai_libs.transformers.exportable import NumpyColumnSelector\n",
    "from autoai_libs.transformers.exportable import CompressStrings\n",
    "from autoai_libs.transformers.exportable import NumpyReplaceMissingValues\n",
    "from autoai_libs.transformers.exportable import NumpyReplaceUnknownValues\n",
    "from autoai_libs.transformers.exportable import boolean2float\n",
    "from autoai_libs.transformers.exportable import CatImputer\n",
    "from autoai_libs.transformers.exportable import CatEncoder\n",
    "import numpy as np\n",
    "from autoai_libs.transformers.exportable import float32_transform\n",
    "from sklearn.pipeline import make_pipeline\n",
    "from autoai_libs.transformers.exportable import FloatStr2Float\n",
    "from autoai_libs.transformers.exportable import NumImputer\n",
    "from autoai_libs.transformers.exportable import OptStandardScaler\n",
    "from sklearn.pipeline import make_union\n",
    "from autoai_libs.transformers.exportable import NumpyPermuteArray\n",
    "from autoai_libs.cognito.transforms.transform_utils import TA2\n",
    "import autoai_libs.utils.fc_methods\n",
    "from autoai_libs.cognito.transforms.transform_utils import FS1\n",
    "from snapml import SnapRandomForestRegressor"
   ]
  },
  {
   "cell_type": "markdown",
   "metadata": {},
   "source": [
    "#### Pre-processing & Estimator."
   ]
  },
  {
   "cell_type": "code",
   "execution_count": null,
   "metadata": {
    "pycharm": {
     "is_executing": true,
     "name": "#%%\n"
    }
   },
   "outputs": [],
   "source": [
    "date_transformer_0 = DateTransformer(\n",
    "    column_headers_list=[\n",
    "        \"Week\", \"Day\", \"Date\", \"Time\", \"full_team_name\", \"full_team_name_def\",\n",
    "        \"home\", \"prf_opp_PA\", \"prf_opp_Yds\", \"prf_opp_TO_Ply\",\n",
    "        \"prf_opp_TO_Y/P\", \"prf_opp_TO_TO\", \"prf_opp_FL\", \"prf_opp_1stD\",\n",
    "        \"prf_opp_passingCmp\", \"prf_opp_passingAtt\", \"prf_opp_passingYds\",\n",
    "        \"prf_opp_passingTD\", \"prf_opp_passingInt\", \"prf_opp_passingNY/A\",\n",
    "        \"prf_opp_passing1stD\", \"prf_opp_rushingAtt\", \"prf_opp_rushingYds\",\n",
    "        \"prf_opp_rushingTD\", \"prf_opp_rushingY/A\", \"prf_opp_rushing1stD\",\n",
    "        \"prf_opp_rushingPen\", \"prf_opp_rushingYds.1\", \"prf_opp_rushing1stPy\",\n",
    "        \"prf_opp_Sc\", \"prf_opp_TO\", \"prf_opp_EXP\", \"Win\", \"Loss\", \"Tie\",\n",
    "        \"SOS\", \"PR\", \"dvoa_off_Adjusted Line Yards\",\n",
    "        \"dvoa_off_Running Back Yards\", \"dvoa_off_Power Success Rate\",\n",
    "        \"dvoa_off_Open Field Yards\", \"dvoa_off_Second Level Yards\",\n",
    "        \"dvoa_off_Stuffed Rate\", \"dvoa_off_Adjusted Sack Rate\",\n",
    "        \"dvoa_off_Sacks\", \"dvoa_def_Adjusted Line Yards\",\n",
    "        \"dvoa_def_Running Back Yards\", \"dvoa_def_Power Success Rate\",\n",
    "        \"dvoa_def_Open Field Yards\", \"dvoa_def_Second Level Yards\",\n",
    "        \"dvoa_def_Stuffed Rate\", \"dvoa_def_Adjusted Sack Rate\",\n",
    "        \"dvoa_def_Sacks\", \"hfa\", \"def_prf_opp_PA\", \"def_prf_opp_Yds\",\n",
    "        \"def_prf_opp_TO_Ply\", \"def_prf_opp_TO_Y/P\", \"def_prf_opp_TO_TO\",\n",
    "        \"def_prf_opp_FL\", \"def_prf_opp_1stD\", \"def_prf_opp_passingCmp\",\n",
    "        \"def_prf_opp_passingAtt\", \"def_prf_opp_passingYds\",\n",
    "        \"def_prf_opp_passingTD\", \"def_prf_opp_passingInt\",\n",
    "        \"def_prf_opp_passingNY/A\", \"def_prf_opp_passing1stD\",\n",
    "        \"def_prf_opp_rushingAtt\", \"def_prf_opp_rushingYds\",\n",
    "        \"def_prf_opp_rushingTD\", \"def_prf_opp_rushingY/A\",\n",
    "        \"def_prf_opp_rushing1stD\", \"def_prf_opp_rushingPen\",\n",
    "        \"def_prf_opp_rushingYds.1\", \"def_prf_opp_rushing1stPy\",\n",
    "        \"def_prf_opp_Sc\", \"def_prf_opp_TO\", \"def_prf_opp_EXP\", \"def_Win\",\n",
    "        \"def_Loss\", \"def_Tie\", \"def_SOS\", \"def_PR\",\n",
    "        \"def_dvoa_off_Adjusted Line Yards\", \"def_dvoa_off_Running Back Yards\",\n",
    "        \"def_dvoa_off_Power Success Rate\", \"def_dvoa_off_Open Field Yards\",\n",
    "        \"def_dvoa_off_Second Level Yards\", \"def_dvoa_off_Stuffed Rate\",\n",
    "        \"def_dvoa_off_Adjusted Sack Rate\", \"def_dvoa_off_Sacks\",\n",
    "        \"def_dvoa_def_Adjusted Line Yards\", \"def_dvoa_def_Running Back Yards\",\n",
    "        \"def_dvoa_def_Power Success Rate\", \"def_dvoa_def_Open Field Yards\",\n",
    "        \"def_dvoa_def_Second Level Yards\", \"def_dvoa_def_Stuffed Rate\",\n",
    "        \"def_dvoa_def_Adjusted Sack Rate\", \"def_dvoa_def_Sacks\", \"def_hfa\",\n",
    "    ],\n",
    "    delete_source_columns=False,\n",
    "    missing_values_reference_list=[\"?\", \"\", \"-\", float(\"nan\")],\n",
    "    options=[\"all\"],\n",
    ")\n",
    "numpy_column_selector_0 = NumpyColumnSelector(\n",
    "    columns=[\n",
    "        0, 1, 2, 3, 4, 5, 6, 11, 12, 17, 18, 20, 23, 25, 26, 28, 32, 33, 34,\n",
    "        39, 44, 47, 52, 58, 59, 64, 65, 67, 70, 72, 73, 75, 79, 80, 81, 91,\n",
    "        99, 101, 102, 103, 104, 105, 106, 107, 108, 109,\n",
    "    ]\n",
    ")\n",
    "compress_strings = CompressStrings(\n",
    "    compress_type=\"hash\",\n",
    "    dtypes_list=[\n",
    "        \"int_num\", \"char_str\", \"char_str\", \"char_str\", \"char_str\", \"char_str\",\n",
    "        \"int_num\", \"int_num\", \"int_num\", \"int_num\", \"int_num\", \"int_num\",\n",
    "        \"int_num\", \"int_num\", \"int_num\", \"int_num\", \"int_num\", \"int_num\",\n",
    "        \"int_num\", \"int_num\", \"int_num\", \"int_num\", \"int_num\", \"int_num\",\n",
    "        \"int_num\", \"int_num\", \"int_num\", \"int_num\", \"int_num\", \"int_num\",\n",
    "        \"int_num\", \"int_num\", \"int_num\", \"int_num\", \"int_num\", \"int_num\",\n",
    "        \"int_num\", \"float_int_num\", \"float_int_num\", \"int_num\", \"int_num\",\n",
    "        \"int_num\", \"int_num\", \"int_num\", \"int_num\", \"int_num\",\n",
    "    ],\n",
    "    missing_values_reference_list=[\"\", \"-\", \"?\", float(\"nan\")],\n",
    "    misslist_list=[\n",
    "        [], [], [], [], [], [], [], [], [], [], [], [], [], [], [], [], [],\n",
    "        [], [], [], [], [], [], [], [], [], [], [], [], [], [], [], [], [],\n",
    "        [], [], [], [], [], [], [], [], [], [], [], [],\n",
    "    ],\n",
    ")\n",
    "numpy_replace_missing_values_0 = NumpyReplaceMissingValues(\n",
    "    missing_values=[], filling_values=float(\"nan\")\n",
    ")\n",
    "numpy_replace_unknown_values = NumpyReplaceUnknownValues(\n",
    "    filling_values=float(\"nan\"),\n",
    "    filling_values_list=[\n",
    "        float(\"nan\"), float(\"nan\"), float(\"nan\"), float(\"nan\"), float(\"nan\"),\n",
    "        float(\"nan\"), float(\"nan\"), float(\"nan\"), float(\"nan\"), float(\"nan\"),\n",
    "        float(\"nan\"), float(\"nan\"), float(\"nan\"), float(\"nan\"), float(\"nan\"),\n",
    "        float(\"nan\"), float(\"nan\"), float(\"nan\"), float(\"nan\"), float(\"nan\"),\n",
    "        float(\"nan\"), float(\"nan\"), float(\"nan\"), float(\"nan\"), float(\"nan\"),\n",
    "        float(\"nan\"), float(\"nan\"), float(\"nan\"), float(\"nan\"), float(\"nan\"),\n",
    "        float(\"nan\"), float(\"nan\"), float(\"nan\"), float(\"nan\"), float(\"nan\"),\n",
    "        float(\"nan\"), float(\"nan\"), 100001, 100001, float(\"nan\"),\n",
    "        float(\"nan\"), float(\"nan\"), float(\"nan\"), float(\"nan\"), float(\"nan\"),\n",
    "        float(\"nan\"),\n",
    "    ],\n",
    "    missing_values_reference_list=[\"\", \"-\", \"?\", float(\"nan\")],\n",
    ")\n",
    "cat_imputer = CatImputer(\n",
    "    missing_values=float(\"nan\"),\n",
    "    sklearn_version_family=\"1\",\n",
    "    strategy=\"most_frequent\",\n",
    ")\n",
    "cat_encoder = CatEncoder(\n",
    "    encoding=\"ordinal\",\n",
    "    categories=\"auto\",\n",
    "    dtype=np.float64,\n",
    "    handle_unknown=\"error\",\n",
    "    sklearn_version_family=\"1\",\n",
    ")\n",
    "pipeline_0 = make_pipeline(\n",
    "    date_transformer_0,\n",
    "    numpy_column_selector_0,\n",
    "    compress_strings,\n",
    "    numpy_replace_missing_values_0,\n",
    "    numpy_replace_unknown_values,\n",
    "    boolean2float(),\n",
    "    cat_imputer,\n",
    "    cat_encoder,\n",
    "    float32_transform(),\n",
    ")\n",
    "date_transformer_1 = DateTransformer(\n",
    "    column_headers_list=[\n",
    "        \"Week\", \"Day\", \"Date\", \"Time\", \"full_team_name\", \"full_team_name_def\",\n",
    "        \"home\", \"prf_opp_PA\", \"prf_opp_Yds\", \"prf_opp_TO_Ply\",\n",
    "        \"prf_opp_TO_Y/P\", \"prf_opp_TO_TO\", \"prf_opp_FL\", \"prf_opp_1stD\",\n",
    "        \"prf_opp_passingCmp\", \"prf_opp_passingAtt\", \"prf_opp_passingYds\",\n",
    "        \"prf_opp_passingTD\", \"prf_opp_passingInt\", \"prf_opp_passingNY/A\",\n",
    "        \"prf_opp_passing1stD\", \"prf_opp_rushingAtt\", \"prf_opp_rushingYds\",\n",
    "        \"prf_opp_rushingTD\", \"prf_opp_rushingY/A\", \"prf_opp_rushing1stD\",\n",
    "        \"prf_opp_rushingPen\", \"prf_opp_rushingYds.1\", \"prf_opp_rushing1stPy\",\n",
    "        \"prf_opp_Sc\", \"prf_opp_TO\", \"prf_opp_EXP\", \"Win\", \"Loss\", \"Tie\",\n",
    "        \"SOS\", \"PR\", \"dvoa_off_Adjusted Line Yards\",\n",
    "        \"dvoa_off_Running Back Yards\", \"dvoa_off_Power Success Rate\",\n",
    "        \"dvoa_off_Open Field Yards\", \"dvoa_off_Second Level Yards\",\n",
    "        \"dvoa_off_Stuffed Rate\", \"dvoa_off_Adjusted Sack Rate\",\n",
    "        \"dvoa_off_Sacks\", \"dvoa_def_Adjusted Line Yards\",\n",
    "        \"dvoa_def_Running Back Yards\", \"dvoa_def_Power Success Rate\",\n",
    "        \"dvoa_def_Open Field Yards\", \"dvoa_def_Second Level Yards\",\n",
    "        \"dvoa_def_Stuffed Rate\", \"dvoa_def_Adjusted Sack Rate\",\n",
    "        \"dvoa_def_Sacks\", \"hfa\", \"def_prf_opp_PA\", \"def_prf_opp_Yds\",\n",
    "        \"def_prf_opp_TO_Ply\", \"def_prf_opp_TO_Y/P\", \"def_prf_opp_TO_TO\",\n",
    "        \"def_prf_opp_FL\", \"def_prf_opp_1stD\", \"def_prf_opp_passingCmp\",\n",
    "        \"def_prf_opp_passingAtt\", \"def_prf_opp_passingYds\",\n",
    "        \"def_prf_opp_passingTD\", \"def_prf_opp_passingInt\",\n",
    "        \"def_prf_opp_passingNY/A\", \"def_prf_opp_passing1stD\",\n",
    "        \"def_prf_opp_rushingAtt\", \"def_prf_opp_rushingYds\",\n",
    "        \"def_prf_opp_rushingTD\", \"def_prf_opp_rushingY/A\",\n",
    "        \"def_prf_opp_rushing1stD\", \"def_prf_opp_rushingPen\",\n",
    "        \"def_prf_opp_rushingYds.1\", \"def_prf_opp_rushing1stPy\",\n",
    "        \"def_prf_opp_Sc\", \"def_prf_opp_TO\", \"def_prf_opp_EXP\", \"def_Win\",\n",
    "        \"def_Loss\", \"def_Tie\", \"def_SOS\", \"def_PR\",\n",
    "        \"def_dvoa_off_Adjusted Line Yards\", \"def_dvoa_off_Running Back Yards\",\n",
    "        \"def_dvoa_off_Power Success Rate\", \"def_dvoa_off_Open Field Yards\",\n",
    "        \"def_dvoa_off_Second Level Yards\", \"def_dvoa_off_Stuffed Rate\",\n",
    "        \"def_dvoa_off_Adjusted Sack Rate\", \"def_dvoa_off_Sacks\",\n",
    "        \"def_dvoa_def_Adjusted Line Yards\", \"def_dvoa_def_Running Back Yards\",\n",
    "        \"def_dvoa_def_Power Success Rate\", \"def_dvoa_def_Open Field Yards\",\n",
    "        \"def_dvoa_def_Second Level Yards\", \"def_dvoa_def_Stuffed Rate\",\n",
    "        \"def_dvoa_def_Adjusted Sack Rate\", \"def_dvoa_def_Sacks\", \"def_hfa\",\n",
    "    ],\n",
    "    delete_source_columns=False,\n",
    "    missing_values_reference_list=[\"?\", \"\", \"-\", float(\"nan\")],\n",
    "    options=[\"all\"],\n",
    ")\n",
    "numpy_column_selector_1 = NumpyColumnSelector(\n",
    "    columns=[\n",
    "        7, 8, 9, 10, 13, 14, 15, 16, 19, 21, 22, 24, 27, 29, 30, 31, 35, 36,\n",
    "        37, 38, 40, 41, 42, 43, 45, 46, 48, 49, 50, 51, 53, 54, 55, 56, 57,\n",
    "        60, 61, 62, 63, 66, 68, 69, 71, 74, 76, 77, 78, 82, 83, 84, 85, 86,\n",
    "        87, 88, 89, 90, 92, 93, 94, 95, 96, 97, 98, 100,\n",
    "    ]\n",
    ")\n",
    "float_str2_float = FloatStr2Float(\n",
    "    dtypes_list=[\n",
    "        \"int_num\", \"int_num\", \"int_num\", \"float_num\", \"int_num\", \"int_num\",\n",
    "        \"int_num\", \"int_num\", \"float_num\", \"int_num\", \"int_num\", \"float_num\",\n",
    "        \"int_num\", \"float_num\", \"float_num\", \"float_num\", \"float_num\",\n",
    "        \"float_num\", \"float_num\", \"float_num\", \"float_num\", \"float_num\",\n",
    "        \"float_num\", \"float_num\", \"float_num\", \"float_num\", \"float_num\",\n",
    "        \"float_num\", \"float_num\", \"float_num\", \"float_num\", \"int_num\",\n",
    "        \"int_num\", \"int_num\", \"float_num\", \"int_num\", \"int_num\", \"int_num\",\n",
    "        \"int_num\", \"float_num\", \"int_num\", \"int_num\", \"float_num\", \"int_num\",\n",
    "        \"float_num\", \"float_num\", \"float_num\", \"float_num\", \"float_num\",\n",
    "        \"float_num\", \"float_num\", \"float_num\", \"float_num\", \"float_num\",\n",
    "        \"float_num\", \"float_num\", \"float_num\", \"float_num\", \"float_num\",\n",
    "        \"float_num\", \"float_num\", \"float_num\", \"float_num\", \"float_num\",\n",
    "    ],\n",
    "    missing_values_reference_list=[],\n",
    ")\n",
    "numpy_replace_missing_values_1 = NumpyReplaceMissingValues(\n",
    "    missing_values=[], filling_values=float(\"nan\")\n",
    ")\n",
    "num_imputer = NumImputer(missing_values=float(\"nan\"), strategy=\"median\")\n",
    "opt_standard_scaler = OptStandardScaler(use_scaler_flag=False)\n",
    "pipeline_1 = make_pipeline(\n",
    "    date_transformer_1,\n",
    "    numpy_column_selector_1,\n",
    "    float_str2_float,\n",
    "    numpy_replace_missing_values_1,\n",
    "    num_imputer,\n",
    "    opt_standard_scaler,\n",
    "    float32_transform(),\n",
    ")\n",
    "union = make_union(pipeline_0, pipeline_1)\n",
    "numpy_permute_array = NumpyPermuteArray(\n",
    "    axis=0,\n",
    "    permutation_indices=[\n",
    "        0, 1, 2, 3, 4, 5, 6, 11, 12, 17, 18, 20, 23, 25, 26, 28, 32, 33, 34,\n",
    "        39, 44, 47, 52, 58, 59, 64, 65, 67, 70, 72, 73, 75, 79, 80, 81, 91,\n",
    "        99, 101, 102, 103, 104, 105, 106, 107, 108, 109, 7, 8, 9, 10, 13, 14,\n",
    "        15, 16, 19, 21, 22, 24, 27, 29, 30, 31, 35, 36, 37, 38, 40, 41, 42,\n",
    "        43, 45, 46, 48, 49, 50, 51, 53, 54, 55, 56, 57, 60, 61, 62, 63, 66,\n",
    "        68, 69, 71, 74, 76, 77, 78, 82, 83, 84, 85, 86, 87, 88, 89, 90, 92,\n",
    "        93, 94, 95, 96, 97, 98, 100,\n",
    "    ],\n",
    ")\n",
    "ta2_0 = TA2(\n",
    "    fun=np.add,\n",
    "    name=\"sum\",\n",
    "    datatypes1=[\n",
    "        \"intc\", \"intp\", \"int_\", \"uint8\", \"uint16\", \"uint32\", \"uint64\", \"int8\",\n",
    "        \"int16\", \"int32\", \"int64\", \"short\", \"long\", \"longlong\", \"float16\",\n",
    "        \"float32\", \"float64\",\n",
    "    ],\n",
    "    feat_constraints1=[autoai_libs.utils.fc_methods.is_not_categorical],\n",
    "    datatypes2=[\n",
    "        \"intc\", \"intp\", \"int_\", \"uint8\", \"uint16\", \"uint32\", \"uint64\", \"int8\",\n",
    "        \"int16\", \"int32\", \"int64\", \"short\", \"long\", \"longlong\", \"float16\",\n",
    "        \"float32\", \"float64\",\n",
    "    ],\n",
    "    feat_constraints2=[autoai_libs.utils.fc_methods.is_not_categorical],\n",
    "    col_names=[\n",
    "        \"Week\", \"Day\", \"Date\", \"Time\", \"full_team_name\", \"full_team_name_def\",\n",
    "        \"home\", \"prf_opp_PA\", \"prf_opp_Yds\", \"prf_opp_TO_Ply\",\n",
    "        \"prf_opp_TO_Y/P\", \"prf_opp_TO_TO\", \"prf_opp_FL\", \"prf_opp_1stD\",\n",
    "        \"prf_opp_passingCmp\", \"prf_opp_passingAtt\", \"prf_opp_passingYds\",\n",
    "        \"prf_opp_passingTD\", \"prf_opp_passingInt\", \"prf_opp_passingNY/A\",\n",
    "        \"prf_opp_passing1stD\", \"prf_opp_rushingAtt\", \"prf_opp_rushingYds\",\n",
    "        \"prf_opp_rushingTD\", \"prf_opp_rushingY/A\", \"prf_opp_rushing1stD\",\n",
    "        \"prf_opp_rushingPen\", \"prf_opp_rushingYds.1\", \"prf_opp_rushing1stPy\",\n",
    "        \"prf_opp_Sc\", \"prf_opp_TO\", \"prf_opp_EXP\", \"Win\", \"Loss\", \"Tie\",\n",
    "        \"SOS\", \"PR\", \"dvoa_off_Adjusted Line Yards\",\n",
    "        \"dvoa_off_Running Back Yards\", \"dvoa_off_Power Success Rate\",\n",
    "        \"dvoa_off_Open Field Yards\", \"dvoa_off_Second Level Yards\",\n",
    "        \"dvoa_off_Stuffed Rate\", \"dvoa_off_Adjusted Sack Rate\",\n",
    "        \"dvoa_off_Sacks\", \"dvoa_def_Adjusted Line Yards\",\n",
    "        \"dvoa_def_Running Back Yards\", \"dvoa_def_Power Success Rate\",\n",
    "        \"dvoa_def_Open Field Yards\", \"dvoa_def_Second Level Yards\",\n",
    "        \"dvoa_def_Stuffed Rate\", \"dvoa_def_Adjusted Sack Rate\",\n",
    "        \"dvoa_def_Sacks\", \"hfa\", \"def_prf_opp_PA\", \"def_prf_opp_Yds\",\n",
    "        \"def_prf_opp_TO_Ply\", \"def_prf_opp_TO_Y/P\", \"def_prf_opp_TO_TO\",\n",
    "        \"def_prf_opp_FL\", \"def_prf_opp_1stD\", \"def_prf_opp_passingCmp\",\n",
    "        \"def_prf_opp_passingAtt\", \"def_prf_opp_passingYds\",\n",
    "        \"def_prf_opp_passingTD\", \"def_prf_opp_passingInt\",\n",
    "        \"def_prf_opp_passingNY/A\", \"def_prf_opp_passing1stD\",\n",
    "        \"def_prf_opp_rushingAtt\", \"def_prf_opp_rushingYds\",\n",
    "        \"def_prf_opp_rushingTD\", \"def_prf_opp_rushingY/A\",\n",
    "        \"def_prf_opp_rushing1stD\", \"def_prf_opp_rushingPen\",\n",
    "        \"def_prf_opp_rushingYds.1\", \"def_prf_opp_rushing1stPy\",\n",
    "        \"def_prf_opp_Sc\", \"def_prf_opp_TO\", \"def_prf_opp_EXP\", \"def_Win\",\n",
    "        \"def_Loss\", \"def_Tie\", \"def_SOS\", \"def_PR\",\n",
    "        \"def_dvoa_off_Adjusted Line Yards\", \"def_dvoa_off_Running Back Yards\",\n",
    "        \"def_dvoa_off_Power Success Rate\", \"def_dvoa_off_Open Field Yards\",\n",
    "        \"def_dvoa_off_Second Level Yards\", \"def_dvoa_off_Stuffed Rate\",\n",
    "        \"def_dvoa_off_Adjusted Sack Rate\", \"def_dvoa_off_Sacks\",\n",
    "        \"def_dvoa_def_Adjusted Line Yards\", \"def_dvoa_def_Running Back Yards\",\n",
    "        \"def_dvoa_def_Power Success Rate\", \"def_dvoa_def_Open Field Yards\",\n",
    "        \"def_dvoa_def_Second Level Yards\", \"def_dvoa_def_Stuffed Rate\",\n",
    "        \"def_dvoa_def_Adjusted Sack Rate\", \"def_dvoa_def_Sacks\", \"def_hfa\",\n",
    "        \"NewDateFeature_0_FloatTimestamp(Date)\",\n",
    "        \"NewDateFeature_1_FloatTimestamp(Time)\",\n",
    "        \"NewDateFeature_0_Month(Date)\", \"NewDateFeature_0_Week(Date)\",\n",
    "        \"NewDateFeature_0_DayOfYear(Date)\",\n",
    "        \"NewDateFeature_0_DayOfMonth(Date)\",\n",
    "        \"NewDateFeature_0_DayOfWeek(Date)\", \"NewDateFeature_1_Hour(Time)\",\n",
    "        \"NewDateFeature_1_Minute(Time)\",\n",
    "    ],\n",
    "    col_dtypes=[\n",
    "        np.dtype(\"float32\"), np.dtype(\"float32\"), np.dtype(\"float32\"),\n",
    "        np.dtype(\"float32\"), np.dtype(\"float32\"), np.dtype(\"float32\"),\n",
    "        np.dtype(\"float32\"), np.dtype(\"float32\"), np.dtype(\"float32\"),\n",
    "        np.dtype(\"float32\"), np.dtype(\"float32\"), np.dtype(\"float32\"),\n",
    "        np.dtype(\"float32\"), np.dtype(\"float32\"), np.dtype(\"float32\"),\n",
    "        np.dtype(\"float32\"), np.dtype(\"float32\"), np.dtype(\"float32\"),\n",
    "        np.dtype(\"float32\"), np.dtype(\"float32\"), np.dtype(\"float32\"),\n",
    "        np.dtype(\"float32\"), np.dtype(\"float32\"), np.dtype(\"float32\"),\n",
    "        np.dtype(\"float32\"), np.dtype(\"float32\"), np.dtype(\"float32\"),\n",
    "        np.dtype(\"float32\"), np.dtype(\"float32\"), np.dtype(\"float32\"),\n",
    "        np.dtype(\"float32\"), np.dtype(\"float32\"), np.dtype(\"float32\"),\n",
    "        np.dtype(\"float32\"), np.dtype(\"float32\"), np.dtype(\"float32\"),\n",
    "        np.dtype(\"float32\"), np.dtype(\"float32\"), np.dtype(\"float32\"),\n",
    "        np.dtype(\"float32\"), np.dtype(\"float32\"), np.dtype(\"float32\"),\n",
    "        np.dtype(\"float32\"), np.dtype(\"float32\"), np.dtype(\"float32\"),\n",
    "        np.dtype(\"float32\"), np.dtype(\"float32\"), np.dtype(\"float32\"),\n",
    "        np.dtype(\"float32\"), np.dtype(\"float32\"), np.dtype(\"float32\"),\n",
    "        np.dtype(\"float32\"), np.dtype(\"float32\"), np.dtype(\"float32\"),\n",
    "        np.dtype(\"float32\"), np.dtype(\"float32\"), np.dtype(\"float32\"),\n",
    "        np.dtype(\"float32\"), np.dtype(\"float32\"), np.dtype(\"float32\"),\n",
    "        np.dtype(\"float32\"), np.dtype(\"float32\"), np.dtype(\"float32\"),\n",
    "        np.dtype(\"float32\"), np.dtype(\"float32\"), np.dtype(\"float32\"),\n",
    "        np.dtype(\"float32\"), np.dtype(\"float32\"), np.dtype(\"float32\"),\n",
    "        np.dtype(\"float32\"), np.dtype(\"float32\"), np.dtype(\"float32\"),\n",
    "        np.dtype(\"float32\"), np.dtype(\"float32\"), np.dtype(\"float32\"),\n",
    "        np.dtype(\"float32\"), np.dtype(\"float32\"), np.dtype(\"float32\"),\n",
    "        np.dtype(\"float32\"), np.dtype(\"float32\"), np.dtype(\"float32\"),\n",
    "        np.dtype(\"float32\"), np.dtype(\"float32\"), np.dtype(\"float32\"),\n",
    "        np.dtype(\"float32\"), np.dtype(\"float32\"), np.dtype(\"float32\"),\n",
    "        np.dtype(\"float32\"), np.dtype(\"float32\"), np.dtype(\"float32\"),\n",
    "        np.dtype(\"float32\"), np.dtype(\"float32\"), np.dtype(\"float32\"),\n",
    "        np.dtype(\"float32\"), np.dtype(\"float32\"), np.dtype(\"float32\"),\n",
    "        np.dtype(\"float32\"), np.dtype(\"float32\"), np.dtype(\"float32\"),\n",
    "        np.dtype(\"float32\"), np.dtype(\"float32\"), np.dtype(\"float32\"),\n",
    "        np.dtype(\"float32\"), np.dtype(\"float32\"), np.dtype(\"float32\"),\n",
    "        np.dtype(\"float32\"), np.dtype(\"float32\"), np.dtype(\"float32\"),\n",
    "        np.dtype(\"float32\"), np.dtype(\"float32\"),\n",
    "    ],\n",
    ")\n",
    "fs1_0 = FS1(\n",
    "    cols_ids_must_keep=range(0, 110),\n",
    "    additional_col_count_to_keep=36,\n",
    "    ptype=\"regression\",\n",
    ")\n",
    "ta2_1 = TA2(\n",
    "    fun=np.multiply,\n",
    "    name=\"product\",\n",
    "    datatypes1=[\n",
    "        \"intc\", \"intp\", \"int_\", \"uint8\", \"uint16\", \"uint32\", \"uint64\", \"int8\",\n",
    "        \"int16\", \"int32\", \"int64\", \"short\", \"long\", \"longlong\", \"float16\",\n",
    "        \"float32\", \"float64\",\n",
    "    ],\n",
    "    feat_constraints1=[autoai_libs.utils.fc_methods.is_not_categorical],\n",
    "    datatypes2=[\n",
    "        \"intc\", \"intp\", \"int_\", \"uint8\", \"uint16\", \"uint32\", \"uint64\", \"int8\",\n",
    "        \"int16\", \"int32\", \"int64\", \"short\", \"long\", \"longlong\", \"float16\",\n",
    "        \"float32\", \"float64\",\n",
    "    ],\n",
    "    feat_constraints2=[autoai_libs.utils.fc_methods.is_not_categorical],\n",
    "    col_names=[\n",
    "        \"Week\", \"Day\", \"Date\", \"Time\", \"full_team_name\", \"full_team_name_def\",\n",
    "        \"home\", \"prf_opp_PA\", \"prf_opp_Yds\", \"prf_opp_TO_Ply\",\n",
    "        \"prf_opp_TO_Y/P\", \"prf_opp_TO_TO\", \"prf_opp_FL\", \"prf_opp_1stD\",\n",
    "        \"prf_opp_passingCmp\", \"prf_opp_passingAtt\", \"prf_opp_passingYds\",\n",
    "        \"prf_opp_passingTD\", \"prf_opp_passingInt\", \"prf_opp_passingNY/A\",\n",
    "        \"prf_opp_passing1stD\", \"prf_opp_rushingAtt\", \"prf_opp_rushingYds\",\n",
    "        \"prf_opp_rushingTD\", \"prf_opp_rushingY/A\", \"prf_opp_rushing1stD\",\n",
    "        \"prf_opp_rushingPen\", \"prf_opp_rushingYds.1\", \"prf_opp_rushing1stPy\",\n",
    "        \"prf_opp_Sc\", \"prf_opp_TO\", \"prf_opp_EXP\", \"Win\", \"Loss\", \"Tie\",\n",
    "        \"SOS\", \"PR\", \"dvoa_off_Adjusted Line Yards\",\n",
    "        \"dvoa_off_Running Back Yards\", \"dvoa_off_Power Success Rate\",\n",
    "        \"dvoa_off_Open Field Yards\", \"dvoa_off_Second Level Yards\",\n",
    "        \"dvoa_off_Stuffed Rate\", \"dvoa_off_Adjusted Sack Rate\",\n",
    "        \"dvoa_off_Sacks\", \"dvoa_def_Adjusted Line Yards\",\n",
    "        \"dvoa_def_Running Back Yards\", \"dvoa_def_Power Success Rate\",\n",
    "        \"dvoa_def_Open Field Yards\", \"dvoa_def_Second Level Yards\",\n",
    "        \"dvoa_def_Stuffed Rate\", \"dvoa_def_Adjusted Sack Rate\",\n",
    "        \"dvoa_def_Sacks\", \"hfa\", \"def_prf_opp_PA\", \"def_prf_opp_Yds\",\n",
    "        \"def_prf_opp_TO_Ply\", \"def_prf_opp_TO_Y/P\", \"def_prf_opp_TO_TO\",\n",
    "        \"def_prf_opp_FL\", \"def_prf_opp_1stD\", \"def_prf_opp_passingCmp\",\n",
    "        \"def_prf_opp_passingAtt\", \"def_prf_opp_passingYds\",\n",
    "        \"def_prf_opp_passingTD\", \"def_prf_opp_passingInt\",\n",
    "        \"def_prf_opp_passingNY/A\", \"def_prf_opp_passing1stD\",\n",
    "        \"def_prf_opp_rushingAtt\", \"def_prf_opp_rushingYds\",\n",
    "        \"def_prf_opp_rushingTD\", \"def_prf_opp_rushingY/A\",\n",
    "        \"def_prf_opp_rushing1stD\", \"def_prf_opp_rushingPen\",\n",
    "        \"def_prf_opp_rushingYds.1\", \"def_prf_opp_rushing1stPy\",\n",
    "        \"def_prf_opp_Sc\", \"def_prf_opp_TO\", \"def_prf_opp_EXP\", \"def_Win\",\n",
    "        \"def_Loss\", \"def_Tie\", \"def_SOS\", \"def_PR\",\n",
    "        \"def_dvoa_off_Adjusted Line Yards\", \"def_dvoa_off_Running Back Yards\",\n",
    "        \"def_dvoa_off_Power Success Rate\", \"def_dvoa_off_Open Field Yards\",\n",
    "        \"def_dvoa_off_Second Level Yards\", \"def_dvoa_off_Stuffed Rate\",\n",
    "        \"def_dvoa_off_Adjusted Sack Rate\", \"def_dvoa_off_Sacks\",\n",
    "        \"def_dvoa_def_Adjusted Line Yards\", \"def_dvoa_def_Running Back Yards\",\n",
    "        \"def_dvoa_def_Power Success Rate\", \"def_dvoa_def_Open Field Yards\",\n",
    "        \"def_dvoa_def_Second Level Yards\", \"def_dvoa_def_Stuffed Rate\",\n",
    "        \"def_dvoa_def_Adjusted Sack Rate\", \"def_dvoa_def_Sacks\", \"def_hfa\",\n",
    "        \"NewDateFeature_0_FloatTimestamp(Date)\",\n",
    "        \"NewDateFeature_1_FloatTimestamp(Time)\",\n",
    "        \"NewDateFeature_0_Month(Date)\", \"NewDateFeature_0_Week(Date)\",\n",
    "        \"NewDateFeature_0_DayOfYear(Date)\",\n",
    "        \"NewDateFeature_0_DayOfMonth(Date)\",\n",
    "        \"NewDateFeature_0_DayOfWeek(Date)\", \"NewDateFeature_1_Hour(Time)\",\n",
    "        \"NewDateFeature_1_Minute(Time)\", \"sum(Date__def_prf_opp_PA)\",\n",
    "        \"sum(prf_opp_PA__prf_opp_rushingPen)\",\n",
    "        \"sum(prf_opp_PA__dvoa_def_Running Back Yards)\",\n",
    "        \"sum(prf_opp_PA__dvoa_def_Power Success Rate)\",\n",
    "        \"sum(prf_opp_PA__dvoa_def_Open Field Yards)\",\n",
    "        \"sum(prf_opp_PA__dvoa_def_Stuffed Rate)\",\n",
    "        \"sum(prf_opp_PA__dvoa_def_Adjusted Sack Rate)\",\n",
    "        \"sum(prf_opp_PA__NewDateFeature_0_DayOfYear(Date))\",\n",
    "        \"sum(prf_opp_rushingPen__def_prf_opp_PA)\",\n",
    "        \"sum(PR__dvoa_def_Adjusted Line Yards)\",\n",
    "        \"sum(dvoa_off_Adjusted Line Yards__def_prf_opp_PA)\",\n",
    "        \"sum(dvoa_off_Open Field Yards__prf_opp_PA)\",\n",
    "        \"sum(dvoa_off_Open Field Yards__PR)\",\n",
    "        \"sum(dvoa_off_Open Field Yards__def_PR)\",\n",
    "        \"sum(dvoa_def_Adjusted Line Yards__def_prf_opp_PA)\",\n",
    "        \"sum(dvoa_def_Adjusted Line Yards__def_PR)\",\n",
    "        \"sum(dvoa_def_Open Field Yards__def_PR)\",\n",
    "        \"sum(dvoa_def_Adjusted Sack Rate__def_prf_opp_Sc)\",\n",
    "        \"sum(def_prf_opp_PA__Date)\",\n",
    "        \"sum(def_prf_opp_PA__dvoa_off_Stuffed Rate)\",\n",
    "        \"sum(def_prf_opp_PA__dvoa_off_Adjusted Sack Rate)\",\n",
    "        \"sum(def_prf_opp_PA__dvoa_def_Adjusted Sack Rate)\",\n",
    "        \"sum(hfa__def_prf_opp_TO)\",\n",
    "        \"sum(def_prf_opp_PA__def_dvoa_def_Adjusted Line Yards)\",\n",
    "        \"sum(def_prf_opp_PA__def_dvoa_def_Open Field Yards)\",\n",
    "        \"sum(def_prf_opp_PA__def_hfa)\",\n",
    "        \"sum(def_prf_opp_Sc__dvoa_def_Adjusted Sack Rate)\",\n",
    "        \"sum(def_prf_opp_EXP__prf_opp_rushingAtt)\", \"sum(def_PR__prf_opp_PA)\",\n",
    "        \"sum(def_PR__dvoa_off_Open Field Yards)\",\n",
    "        \"sum(def_PR__def_dvoa_off_Adjusted Line Yards)\",\n",
    "        \"sum(def_PR__def_dvoa_off_Running Back Yards)\",\n",
    "        \"sum(def_PR__def_dvoa_def_Power Success Rate)\",\n",
    "        \"sum(def_dvoa_off_Open Field Yards__def_prf_opp_PA)\",\n",
    "        \"sum(def_dvoa_def_Power Success Rate__PR)\",\n",
    "        \"sum(def_dvoa_def_Second Level Yards__def_PR)\",\n",
    "    ],\n",
    "    col_dtypes=[\n",
    "        np.dtype(\"float32\"), np.dtype(\"float32\"), np.dtype(\"float32\"),\n",
    "        np.dtype(\"float32\"), np.dtype(\"float32\"), np.dtype(\"float32\"),\n",
    "        np.dtype(\"float32\"), np.dtype(\"float32\"), np.dtype(\"float32\"),\n",
    "        np.dtype(\"float32\"), np.dtype(\"float32\"), np.dtype(\"float32\"),\n",
    "        np.dtype(\"float32\"), np.dtype(\"float32\"), np.dtype(\"float32\"),\n",
    "        np.dtype(\"float32\"), np.dtype(\"float32\"), np.dtype(\"float32\"),\n",
    "        np.dtype(\"float32\"), np.dtype(\"float32\"), np.dtype(\"float32\"),\n",
    "        np.dtype(\"float32\"), np.dtype(\"float32\"), np.dtype(\"float32\"),\n",
    "        np.dtype(\"float32\"), np.dtype(\"float32\"), np.dtype(\"float32\"),\n",
    "        np.dtype(\"float32\"), np.dtype(\"float32\"), np.dtype(\"float32\"),\n",
    "        np.dtype(\"float32\"), np.dtype(\"float32\"), np.dtype(\"float32\"),\n",
    "        np.dtype(\"float32\"), np.dtype(\"float32\"), np.dtype(\"float32\"),\n",
    "        np.dtype(\"float32\"), np.dtype(\"float32\"), np.dtype(\"float32\"),\n",
    "        np.dtype(\"float32\"), np.dtype(\"float32\"), np.dtype(\"float32\"),\n",
    "        np.dtype(\"float32\"), np.dtype(\"float32\"), np.dtype(\"float32\"),\n",
    "        np.dtype(\"float32\"), np.dtype(\"float32\"), np.dtype(\"float32\"),\n",
    "        np.dtype(\"float32\"), np.dtype(\"float32\"), np.dtype(\"float32\"),\n",
    "        np.dtype(\"float32\"), np.dtype(\"float32\"), np.dtype(\"float32\"),\n",
    "        np.dtype(\"float32\"), np.dtype(\"float32\"), np.dtype(\"float32\"),\n",
    "        np.dtype(\"float32\"), np.dtype(\"float32\"), np.dtype(\"float32\"),\n",
    "        np.dtype(\"float32\"), np.dtype(\"float32\"), np.dtype(\"float32\"),\n",
    "        np.dtype(\"float32\"), np.dtype(\"float32\"), np.dtype(\"float32\"),\n",
    "        np.dtype(\"float32\"), np.dtype(\"float32\"), np.dtype(\"float32\"),\n",
    "        np.dtype(\"float32\"), np.dtype(\"float32\"), np.dtype(\"float32\"),\n",
    "        np.dtype(\"float32\"), np.dtype(\"float32\"), np.dtype(\"float32\"),\n",
    "        np.dtype(\"float32\"), np.dtype(\"float32\"), np.dtype(\"float32\"),\n",
    "        np.dtype(\"float32\"), np.dtype(\"float32\"), np.dtype(\"float32\"),\n",
    "        np.dtype(\"float32\"), np.dtype(\"float32\"), np.dtype(\"float32\"),\n",
    "        np.dtype(\"float32\"), np.dtype(\"float32\"), np.dtype(\"float32\"),\n",
    "        np.dtype(\"float32\"), np.dtype(\"float32\"), np.dtype(\"float32\"),\n",
    "        np.dtype(\"float32\"), np.dtype(\"float32\"), np.dtype(\"float32\"),\n",
    "        np.dtype(\"float32\"), np.dtype(\"float32\"), np.dtype(\"float32\"),\n",
    "        np.dtype(\"float32\"), np.dtype(\"float32\"), np.dtype(\"float32\"),\n",
    "        np.dtype(\"float32\"), np.dtype(\"float32\"), np.dtype(\"float32\"),\n",
    "        np.dtype(\"float32\"), np.dtype(\"float32\"), np.dtype(\"float32\"),\n",
    "        np.dtype(\"float32\"), np.dtype(\"float32\"), np.dtype(\"float32\"),\n",
    "        np.dtype(\"float32\"), np.dtype(\"float32\"), np.dtype(\"float32\"),\n",
    "        np.dtype(\"float32\"), np.dtype(\"float32\"), np.dtype(\"float32\"),\n",
    "        np.dtype(\"float32\"), np.dtype(\"float32\"), np.dtype(\"float32\"),\n",
    "        np.dtype(\"float32\"), np.dtype(\"float32\"), np.dtype(\"float32\"),\n",
    "        np.dtype(\"float32\"), np.dtype(\"float32\"), np.dtype(\"float32\"),\n",
    "        np.dtype(\"float32\"), np.dtype(\"float32\"), np.dtype(\"float32\"),\n",
    "        np.dtype(\"float32\"), np.dtype(\"float32\"), np.dtype(\"float32\"),\n",
    "        np.dtype(\"float32\"), np.dtype(\"float32\"), np.dtype(\"float32\"),\n",
    "        np.dtype(\"float32\"), np.dtype(\"float32\"), np.dtype(\"float32\"),\n",
    "        np.dtype(\"float32\"), np.dtype(\"float32\"), np.dtype(\"float32\"),\n",
    "        np.dtype(\"float32\"), np.dtype(\"float32\"), np.dtype(\"float32\"),\n",
    "        np.dtype(\"float32\"), np.dtype(\"float32\"), np.dtype(\"float32\"),\n",
    "        np.dtype(\"float32\"), np.dtype(\"float32\"),\n",
    "    ],\n",
    ")\n",
    "fs1_1 = FS1(\n",
    "    cols_ids_must_keep=range(0, 110),\n",
    "    additional_col_count_to_keep=36,\n",
    "    ptype=\"regression\",\n",
    ")\n",
    "snap_random_forest_regressor = SnapRandomForestRegressor(\n",
    "    gpu_ids=np.array([0], dtype=np.uint32),\n",
    "    max_depth=3,\n",
    "    max_features=0.10004256176720457,\n",
    "    n_estimators=37,\n",
    "    n_jobs=CPU_NUMBER,\n",
    "    random_state=33,\n",
    ")\n"
   ]
  },
  {
   "cell_type": "markdown",
   "metadata": {},
   "source": [
    "#### Pipeline."
   ]
  },
  {
   "cell_type": "code",
   "execution_count": null,
   "metadata": {
    "pycharm": {
     "is_executing": true,
     "name": "#%%\n"
    }
   },
   "outputs": [],
   "source": [
    "pipeline = make_pipeline(\n",
    "    union,\n",
    "    numpy_permute_array,\n",
    "    ta2_0,\n",
    "    fs1_0,\n",
    "    ta2_1,\n",
    "    fs1_1,\n",
    "    snap_random_forest_regressor,\n",
    ")"
   ]
  },
  {
   "cell_type": "markdown",
   "metadata": {},
   "source": [
    "<a id=\"train\"></a>\n",
    "## Train pipeline model\n"
   ]
  },
  {
   "cell_type": "markdown",
   "metadata": {
    "pycharm": {
     "name": "#%% md\n"
    }
   },
   "source": [
    "### Define scorer from the optimization metric\n",
    "This cell constructs the cell scorer based on the experiment metadata."
   ]
  },
  {
   "cell_type": "code",
   "execution_count": null,
   "metadata": {
    "pycharm": {
     "is_executing": true,
     "name": "#%%\n"
    }
   },
   "outputs": [],
   "source": [
    "from sklearn.metrics import get_scorer\n",
    "\n",
    "scorer = get_scorer(experiment_metadata['scoring'])"
   ]
  },
  {
   "cell_type": "markdown",
   "metadata": {
    "pycharm": {
     "name": "#%% md\n"
    }
   },
   "source": [
    "<a id=\"test_model\"></a>\n",
    "### Fit pipeline model\n",
    "In this cell, the pipeline is fitted."
   ]
  },
  {
   "cell_type": "code",
   "execution_count": null,
   "metadata": {
    "execution": {
     "iopub.execute_input": "2020-10-12T14:01:19.291734Z",
     "iopub.status.busy": "2020-10-12T14:01:19.244735Z",
     "iopub.status.idle": "2020-10-12T14:01:19.338461Z",
     "shell.execute_reply": "2020-10-12T14:01:19.338958Z"
    },
    "pycharm": {
     "is_executing": true,
     "name": "#%%\n"
    },
    "scrolled": true
   },
   "outputs": [],
   "source": [
    "pipeline.fit(train_X.values, train_y.values.ravel());"
   ]
  },
  {
   "cell_type": "markdown",
   "metadata": {},
   "source": [
    "<a id=\"test_model\"></a>\n",
    "## Test pipeline model"
   ]
  },
  {
   "cell_type": "markdown",
   "metadata": {
    "pycharm": {
     "name": "#%% md\n"
    }
   },
   "source": [
    "Score the fitted pipeline with the generated scorer using the holdout dataset."
   ]
  },
  {
   "cell_type": "code",
   "execution_count": null,
   "metadata": {
    "execution": {
     "iopub.execute_input": "2020-10-12T14:02:03.910267Z",
     "iopub.status.busy": "2020-10-12T14:02:03.909710Z",
     "iopub.status.idle": "2020-10-12T14:02:03.914154Z",
     "shell.execute_reply": "2020-10-12T14:02:03.914727Z"
    },
    "pycharm": {
     "is_executing": true,
     "name": "#%%\n"
    }
   },
   "outputs": [],
   "source": [
    "score = scorer(pipeline, test_X.values, test_y.values)\n",
    "print(score)"
   ]
  },
  {
   "cell_type": "code",
   "execution_count": null,
   "metadata": {
    "pycharm": {
     "name": "#%%\n"
    }
   },
   "outputs": [],
   "source": [
    "pipeline.predict(test_X.values)"
   ]
  },
  {
   "cell_type": "markdown",
   "metadata": {},
   "source": [
    "<a id=\"summary_and_next_steps\"></a>\n",
    "# Summary and next steps\n",
    "You successfully completed this notebook!\n",
    "You learned how to use AutoAI pipeline definition to train the model.\n",
    "Check out our [Online Documentation](https://www.ibm.com/cloud/watson-studio/autoai) for more samples, tutorials, documentation, how-tos, and blog posts."
   ]
  },
  {
   "cell_type": "markdown",
   "metadata": {},
   "source": [
    "<a id=\"copyrights\"></a>\n",
    "### Copyrights\n",
    "\n",
    "Licensed Materials - Copyright © 2022 IBM. This notebook and its source code are released under the terms of the ILAN License. Use, duplication disclosure restricted by GSA ADP Schedule Contract with IBM Corp.\n",
    "\n",
    "**Note:** The auto-generated notebooks are subject to the International License Agreement for Non-Warranted Programs (or equivalent) and License Information document for Watson Studio Auto-generated Notebook (License Terms), such agreements located in the link below. Specifically, the Source Components and Sample Materials clause included in the License Information document for Watson Studio Auto-generated Notebook applies to the auto-generated notebooks.  \n",
    "\n",
    "By downloading, copying, accessing, or otherwise using the materials, you agree to the <a href=\"http://www14.software.ibm.com/cgi-bin/weblap/lap.pl?li_formnum=L-AMCU-BYC7LF\">License Terms</a>\n",
    "\n",
    "___"
   ]
  }
 ],
 "metadata": {
  "kernelspec": {
   "display_name": "Python 3",
   "language": "python",
   "name": "python3"
  },
  "language_info": {
   "codemirror_mode": {
    "name": "ipython",
    "version": 3
   },
   "file_extension": ".py",
   "mimetype": "text/x-python",
   "name": "python",
   "nbconvert_exporter": "python",
   "pygments_lexer": "ipython3",
   "version": "3.8.8"
  }
 },
 "nbformat": 4,
 "nbformat_minor": 2
}
